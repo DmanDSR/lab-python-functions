{
 "cells": [
  {
   "cell_type": "markdown",
   "id": "25d7736c-ba17-4aff-b6bb-66eba20fbf4e",
   "metadata": {},
   "source": [
    "# Lab | Functions"
   ]
  },
  {
   "cell_type": "markdown",
   "id": "0c581062-8967-4d93-b06e-62833222f930",
   "metadata": {
    "tags": []
   },
   "source": [
    "## Exercise: Managing Customer Orders with Functions\n",
    "\n",
    "In the previous exercise, you improved the code for managing customer orders by using loops and flow control. Now, let's take it a step further and refactor the code by introducing functions.\n",
    "\n",
    "Follow the steps below to complete the exercise:\n",
    "\n",
    "1. Define a function named `initialize_inventory` that takes `products` as a parameter. Inside the function, implement the code for initializing the inventory dictionary using a loop and user input.\n",
    "\n",
    "2. Define a function named `get_customer_orders` that takes no parameters. Inside the function, implement the code for prompting the user to enter the product names using a loop. The function should return the `customer_orders` set.\n",
    "\n",
    "3. Define a function named `update_inventory` that takes `customer_orders` and `inventory` as parameters. Inside the function, implement the code for updating the inventory dictionary based on the customer orders.\n",
    "\n",
    "4. Define a function named `calculate_order_statistics` that takes `customer_orders` and `products` as parameters. Inside the function, implement the code for calculating the order statistics (total products ordered, and percentage of unique products ordered). The function should return these values.\n",
    "\n",
    "5. Define a function named `print_order_statistics` that takes `order_statistics` as a parameter. Inside the function, implement the code for printing the order statistics.\n",
    "\n",
    "6. Define a function named `print_updated_inventory` that takes `inventory` as a parameter. Inside the function, implement the code for printing the updated inventory.\n",
    "\n",
    "7. Call the functions in the appropriate sequence to execute the program and manage customer orders.\n",
    "\n",
    "Hints for functions:\n",
    "\n",
    "- Consider the input parameters required for each function and their return values.\n",
    "- Utilize function parameters and return values to transfer data between functions.\n",
    "- Test your functions individually to ensure they work correctly.\n",
    "\n",
    "\n"
   ]
  },
  {
   "cell_type": "code",
   "execution_count": null,
   "id": "44d08781",
   "metadata": {},
   "outputs": [],
   "source": [
    "products = [\"t-shirt\", \"mug\", \"hat\", \"book\", \"keychain\"] # list of products"
   ]
  },
  {
   "cell_type": "code",
   "execution_count": null,
   "id": "4a320325",
   "metadata": {},
   "outputs": [],
   "source": [
    "inventory = { } # empty inventory dictionary"
   ]
  },
  {
   "cell_type": "code",
   "execution_count": null,
   "id": "b0536460",
   "metadata": {},
   "outputs": [],
   "source": [
    "customer_orders = set() # empty set \n",
    "#type(customer_orders) #type checker"
   ]
  },
  {
   "cell_type": "code",
   "execution_count": null,
   "id": "25147c96",
   "metadata": {},
   "outputs": [],
   "source": [
    "#asks for the inventory numbers\n",
    "def initialize_inventory(inp):\n",
    "    key = 0 # variable to cycle through dictionary keys\n",
    "    \n",
    "    for loop in inp: # asks the user for the inventory count for products\n",
    "        val_1 = input(\"Hello please input the inventory number for \" + inp[key] + \": \" )\n",
    "        if val_1.isdigit():\n",
    "            inventory[inp[key]] = int(val_1)\n",
    "            key+=1\n",
    "        else:\n",
    "            print(\"Please input a number value for the product, try again\")\n",
    "#print(inventory) # to check code"
   ]
  },
  {
   "cell_type": "code",
   "execution_count": null,
   "id": "6bcf4265",
   "metadata": {},
   "outputs": [],
   "source": [
    "#asks the customer for what they want to order\n",
    "def get_customer_orders():\n",
    "    ans = True\n",
    "    while ans:\n",
    "        cus_pro = input(\"Please input a product you want to order:\")\n",
    "        cus_pro.lower()\n",
    "        customer_orders.add(cus_pro)\n",
    "\n",
    "        response = input(\"do you want to add another item, yes or no\")\n",
    "        response.lower()\n",
    "        if response == 'no':\n",
    "            ans = False\n",
    "\n",
    "    return customer_orders"
   ]
  },
  {
   "cell_type": "code",
   "execution_count": null,
   "id": "8ee10d1d",
   "metadata": {},
   "outputs": [],
   "source": [
    "#calculates order stats\n",
    "def calculate_order_statistics(customer_orders, products):\n",
    "    tpo = len(customer_orders)\n",
    "    popo = (len(customer_orders)/len(products))*100 \n",
    "    \n",
    "    return [tpo, popo]"
   ]
  },
  {
   "cell_type": "code",
   "execution_count": null,
   "id": "183c5f5c",
   "metadata": {},
   "outputs": [],
   "source": [
    "#prints order stats\n",
    "def print_order_statistics(order_statistics):\n",
    "    print(\"\\nOrder Statistics\")\n",
    "    print(\"Total Products Ordered: \", order_statistics[0])\n",
    "    print(\"Percentage of Products Ordered:\", order_statistics[1], \"\\n\")"
   ]
  },
  {
   "cell_type": "code",
   "execution_count": null,
   "id": "18a4e58d",
   "metadata": {},
   "outputs": [],
   "source": [
    "#updates inventory\n",
    "def update_inventory(c_o, inv):\n",
    "    key = 0\n",
    "    while key <len(c_o):\n",
    "            inven = list(c_o)[key]\n",
    "            inv[inven] = int(inv[inven]) - 1\n",
    "            key+=1"
   ]
  },
  {
   "cell_type": "code",
   "execution_count": null,
   "id": "de9c6a61",
   "metadata": {},
   "outputs": [],
   "source": [
    "#prints the updated inventory\n",
    "def print_updated_inventory(inv):\n",
    "    key = 0\n",
    "    for loop in products:\n",
    "        print(\"The inventory for \" + products[key] + \" is: \", inv[products[key]])\n",
    "        key+=1"
   ]
  },
  {
   "cell_type": "code",
   "execution_count": null,
   "id": "413403e8",
   "metadata": {},
   "outputs": [],
   "source": [
    "initialize_inventory(products) # Product inventory input\n",
    "\n",
    "get_customer_orders() # What the customer wants to order\n",
    "\n",
    "# Calculates order stats\n",
    "order_statistics = calculate_order_statistics(customer_orders, products) \n",
    "\n",
    "print_order_statistics(order_statistics) # Prints stats\n",
    "\n",
    "update_inventory(customer_orders, inventory) # Updates the product inventory\n",
    "\n",
    "print_updated_inventory(inventory) # Prints the updated inventory"
   ]
  }
 ],
 "metadata": {
  "kernelspec": {
   "display_name": "Python 3 (ipykernel)",
   "language": "python",
   "name": "python3"
  },
  "language_info": {
   "codemirror_mode": {
    "name": "ipython",
    "version": 3
   },
   "file_extension": ".py",
   "mimetype": "text/x-python",
   "name": "python",
   "nbconvert_exporter": "python",
   "pygments_lexer": "ipython3",
   "version": "3.11.7"
  }
 },
 "nbformat": 4,
 "nbformat_minor": 5
}
