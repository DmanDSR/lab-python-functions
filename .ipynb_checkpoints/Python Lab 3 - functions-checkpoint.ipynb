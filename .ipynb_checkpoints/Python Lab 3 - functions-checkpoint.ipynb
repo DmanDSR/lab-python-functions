{
 "cells": [
  {
   "cell_type": "code",
   "execution_count": 46,
   "id": "f229a999",
   "metadata": {},
   "outputs": [],
   "source": [
    "products = [\"t-shirt\", \"mug\", \"hat\", \"book\", \"keychain\"] # list of products"
   ]
  },
  {
   "cell_type": "code",
   "execution_count": 47,
   "id": "7156b936",
   "metadata": {},
   "outputs": [],
   "source": [
    "inventory = { } # empty inventory dictionary"
   ]
  },
  {
   "cell_type": "code",
   "execution_count": 48,
   "id": "4e30c1e4",
   "metadata": {},
   "outputs": [],
   "source": [
    "customer_orders = set() # empty set \n",
    "#type(customer_orders) #type checker"
   ]
  },
  {
   "cell_type": "code",
   "execution_count": 49,
   "id": "8e33a980",
   "metadata": {},
   "outputs": [],
   "source": [
    "#asks for the inventory numbers\n",
    "def initialize_inventory(inp):\n",
    "    key = 0 # variable to cycle through dictionary keys\n",
    "    \n",
    "    for loop in inp: # asks the user for the inventory count for products\n",
    "        val_1 = input(\"Hello please input the inventory number for \" + inp[key] + \": \" )\n",
    "        if val_1.isdigit():\n",
    "            inventory[inp[key]] = int(val_1)\n",
    "            key+=1\n",
    "        else:\n",
    "            print(\"Please input a number value for the product, try again\")\n",
    "#print(inventory) # to check code"
   ]
  },
  {
   "cell_type": "code",
   "execution_count": 50,
   "id": "e2734101",
   "metadata": {},
   "outputs": [],
   "source": [
    "#asks the customer for what they want to order\n",
    "def get_customer_orders():\n",
    "    ans = True\n",
    "    while ans:\n",
    "        cus_pro = input(\"Please input a product you want to order:\")\n",
    "        cus_pro.lower()\n",
    "        customer_orders.add(cus_pro)\n",
    "\n",
    "        response = input(\"do you want to add another item, yes or no\")\n",
    "        response.lower()\n",
    "        if response == 'no':\n",
    "            ans = False\n",
    "\n",
    "    return customer_orders"
   ]
  },
  {
   "cell_type": "code",
   "execution_count": 51,
   "id": "206765e1",
   "metadata": {},
   "outputs": [],
   "source": [
    "#calculates order stats\n",
    "def calculate_order_statistics(customer_orders, products):\n",
    "    tpo = len(customer_orders)\n",
    "    popo = (len(customer_orders)/len(products))*100 \n",
    "    \n",
    "    return [tpo, popo]"
   ]
  },
  {
   "cell_type": "code",
   "execution_count": 52,
   "id": "38ee6895",
   "metadata": {},
   "outputs": [],
   "source": [
    "#prints order stats\n",
    "def print_order_statistics(order_statistics):\n",
    "    print(\"\\nOrder Statistics\")\n",
    "    print(\"Total Products Ordered: \", order_statistics[0])\n",
    "    print(\"Percentage of Products Ordered:\", order_statistics[1], \"\\n\")"
   ]
  },
  {
   "cell_type": "code",
   "execution_count": 53,
   "id": "69c7d377",
   "metadata": {},
   "outputs": [],
   "source": [
    "#updates inventory\n",
    "def update_inventory(c_o, inv):\n",
    "    key = 0\n",
    "    while key <len(c_o):\n",
    "            inven = list(c_o)[key]\n",
    "            inv[inven] = int(inv[inven]) - 1\n",
    "            key+=1"
   ]
  },
  {
   "cell_type": "code",
   "execution_count": 54,
   "id": "806b0475",
   "metadata": {},
   "outputs": [],
   "source": [
    "#prints the updated inventory\n",
    "def print_updated_inventory(inv):\n",
    "    key = 0\n",
    "    for loop in products:\n",
    "        print(\"The inventory for \" + products[key] + \" is: \", inv[products[key]])\n",
    "        key+=1"
   ]
  },
  {
   "cell_type": "code",
   "execution_count": 55,
   "id": "95e2f437",
   "metadata": {},
   "outputs": [
    {
     "name": "stdout",
     "output_type": "stream",
     "text": [
      "Hello please input the inventory number for t-shirt: 10\n",
      "Hello please input the inventory number for mug: 10\n",
      "Hello please input the inventory number for hat: 10\n",
      "Hello please input the inventory number for book: 10\n",
      "Hello please input the inventory number for keychain: 10\n",
      "Please input a product you want to order:hat\n",
      "do you want to add another item, yes or nono\n",
      "\n",
      "Order Statistics\n",
      "Total Products Ordered:  1\n",
      "Percentage of Products Ordered: 20.0 \n",
      "\n",
      "The inventory for t-shirt is:  10\n",
      "The inventory for mug is:  10\n",
      "The inventory for hat is:  9\n",
      "The inventory for book is:  10\n",
      "The inventory for keychain is:  10\n"
     ]
    }
   ],
   "source": [
    "initialize_inventory(products) # Product inventory input\n",
    "\n",
    "get_customer_orders() # What the customer wants to order\n",
    "\n",
    "# Calculates order stats\n",
    "order_statistics = calculate_order_statistics(customer_orders, products) \n",
    "\n",
    "print_order_statistics(order_statistics) # Prints stats\n",
    "\n",
    "update_inventory(customer_orders, inventory) # Updates the product inventory\n",
    "\n",
    "print_updated_inventory(inventory) # Prints the updated inventory"
   ]
  }
 ],
 "metadata": {
  "kernelspec": {
   "display_name": "Python 3 (ipykernel)",
   "language": "python",
   "name": "python3"
  },
  "language_info": {
   "codemirror_mode": {
    "name": "ipython",
    "version": 3
   },
   "file_extension": ".py",
   "mimetype": "text/x-python",
   "name": "python",
   "nbconvert_exporter": "python",
   "pygments_lexer": "ipython3",
   "version": "3.11.7"
  }
 },
 "nbformat": 4,
 "nbformat_minor": 5
}
