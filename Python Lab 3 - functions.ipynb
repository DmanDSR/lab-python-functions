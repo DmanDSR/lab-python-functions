{
 "cells": [
  {
   "cell_type": "code",
   "execution_count": null,
   "id": "80f1a31d",
   "metadata": {},
   "outputs": [],
   "source": [
    "products = [\"t-shirt\", \"mug\", \"hat\", \"book\", \"keychain\"] # list of products\n",
    "key = 0 # variable to cycle through dictionary keys"
   ]
  },
  {
   "cell_type": "code",
   "execution_count": null,
   "id": "02ff3ef8",
   "metadata": {},
   "outputs": [],
   "source": [
    "inventory = { } # empty inventory dictionary"
   ]
  },
  {
   "cell_type": "code",
   "execution_count": null,
   "id": "78234459",
   "metadata": {},
   "outputs": [],
   "source": [
    "for loop in products: # asks the user for the inventory count for products\n",
    "    val_1 = input(\"Hello please input the inventory number for \" + products[key] + \": \" )\n",
    "    if val_1.isdigit():\n",
    "        inventory[products[key]] = int(val_1)\n",
    "        key+=1\n",
    "    else:\n",
    "        print(\"Please input a number value for the product, try again\")\n",
    "    \n",
    "print(inventory)"
   ]
  },
  {
   "cell_type": "code",
   "execution_count": null,
   "id": "383d4bf0",
   "metadata": {},
   "outputs": [],
   "source": [
    "customer_orders = set() \n",
    "#type(customer_orders)"
   ]
  },
  {
   "cell_type": "code",
   "execution_count": null,
   "id": "0fe5ce9b",
   "metadata": {},
   "outputs": [],
   "source": [
    "ans = True\n",
    "\n",
    "while ans:\n",
    "    cus_pro = input(\"Please input a product you want to order:\")\n",
    "    cus_pro.lower()\n",
    "    customer_orders.add(cus_pro)\n",
    "    \n",
    "    response = input(\"do you want to add another item, yes or no\")\n",
    "    response.lower()\n",
    "    \n",
    "    if response == 'no':\n",
    "        ans = False\n",
    "    \n",
    "print(customer_orders)"
   ]
  },
  {
   "cell_type": "code",
   "execution_count": null,
   "id": "087f84f8",
   "metadata": {},
   "outputs": [],
   "source": [
    "tpo = len(customer_orders)\n",
    "popo = (len(customer_orders)/len(products))*100 \n",
    "\n",
    "order_status = (tpo, popo)"
   ]
  },
  {
   "cell_type": "code",
   "execution_count": null,
   "id": "f4c79ba3",
   "metadata": {},
   "outputs": [],
   "source": [
    "print(\"Order Statistics\")\n",
    "print(\"Total Products Ordered: \", tpo)\n",
    "print(\"Percentage of Products Ordered:\", popo)"
   ]
  },
  {
   "cell_type": "code",
   "execution_count": null,
   "id": "7b0bd84c",
   "metadata": {},
   "outputs": [],
   "source": [
    "#print(inventory)\n",
    "key = 0\n",
    "while key <len(customer_orders):\n",
    "        inven = list(customer_orders)[key]\n",
    "        inventory[inven] = int(inventory[inven]) - 1\n",
    "        key+=1\n",
    "key = 0\n",
    "for loop in products:\n",
    "    print(\"The inventory for \" + products[key] + \" is: \", inventory[products[key]])\n",
    "    key+=1\n"
   ]
  }
 ],
 "metadata": {
  "kernelspec": {
   "display_name": "Python 3 (ipykernel)",
   "language": "python",
   "name": "python3"
  },
  "language_info": {
   "codemirror_mode": {
    "name": "ipython",
    "version": 3
   },
   "file_extension": ".py",
   "mimetype": "text/x-python",
   "name": "python",
   "nbconvert_exporter": "python",
   "pygments_lexer": "ipython3",
   "version": "3.11.7"
  }
 },
 "nbformat": 4,
 "nbformat_minor": 5
}
